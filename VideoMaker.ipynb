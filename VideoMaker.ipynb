{
 "cells": [
  {
   "cell_type": "code",
   "execution_count": 53,
   "metadata": {},
   "outputs": [],
   "source": [
    "from gtts import gTTS\n",
    "import os\n",
    "from random import randint\n",
    "from mutagen.mp3 import MP3\n",
    "from time import sleep"
   ]
  },
  {
   "cell_type": "code",
   "execution_count": 6,
   "metadata": {},
   "outputs": [],
   "source": [
    "def clear_temp():\n",
    "    os.system('rm temp/audio/*')\n",
    "    os.system('rm temp/images/*')\n",
    "    os.system('rm temp/video/*')\n",
    "\n",
    "def get_speech(summary):\n",
    "    tts = gTTS(text=summary)\n",
    "    tts.save('temp/audio/temp.mp3')\n",
    "\n",
    "def get_images(keywords):\n",
    "    i = 1\n",
    "    for keyword in keywords:\n",
    "        x = randint(1,5)\n",
    "        copy_name = keyword.replace(' ', '_') + str(x) + '.jpeg'\n",
    "        paste_name = 'temp-' + str(i) + '.jpeg'\n",
    "        os.system('cp images/'+copy_name+' temp/images/'+paste_name)\n",
    "        sleep(0.1)\n",
    "        i += 1\n",
    "\n",
    "def get_video():\n",
    "    os.system('ffmpeg -y -framerate 0.5 -i temp/images/temp-%d.jpeg -vf \"scale=\\'min(320,iw)\\':\\'min(180,ih)\\'\" -sws_flags bilinear temp/video/output.mp4')\n",
    "    sleep(0.5)\n",
    "\n",
    "def makeVideo(summary, keywords, heading):\n",
    "    get_speech(summary)\n",
    "    get_images(keywords)\n",
    "    get_video()\n",
    "    \n",
    "    os.system('ffmpeg  -stream_loop -1 -i temp/video/output.mp4 -i temp/audio/temp.mp3 -shortest -map 0:v:0 -map 1:a:0 -y temp/video/uncut.mp4')\n",
    "    sleep(0.5)\n",
    "    os.system('ffmpeg -y -i temp/video/uncut.mp4 -ss 00:00:00 -t 00:00:31 -async 1 -strict -2 -max_muxing_queue_size 1000 outputs/singles/'+heading+'.mp4')\n",
    "    sleep(0.5)\n",
    "    \n",
    "    print(heading+'.mp4 is ready')\n",
    "    \n",
    "    clear_temp()"
   ]
  }
 ],
 "metadata": {
  "kernelspec": {
   "display_name": "Python 3",
   "language": "python",
   "name": "python3"
  },
  "language_info": {
   "codemirror_mode": {
    "name": "ipython",
    "version": 3
   },
   "file_extension": ".py",
   "mimetype": "text/x-python",
   "name": "python",
   "nbconvert_exporter": "python",
   "pygments_lexer": "ipython3",
   "version": "3.8.2"
  }
 },
 "nbformat": 4,
 "nbformat_minor": 4
}
